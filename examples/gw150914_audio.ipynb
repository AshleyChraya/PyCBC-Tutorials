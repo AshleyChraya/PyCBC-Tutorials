{
 "cells": [
  {
   "cell_type": "markdown",
   "metadata": {},
   "source": [
    "### Listen to the merger converted to audio ###"
   ]
  },
  {
   "cell_type": "code",
   "execution_count": 1,
   "metadata": {},
   "outputs": [
    {
     "name": "stdout",
     "output_type": "stream",
     "text": [
      "Requirement already satisfied: pycbc in /home/nbuser/anaconda2_501/lib/python2.7/site-packages (1.13.5)\n",
      "Requirement already satisfied: lalsuite in /home/nbuser/anaconda2_501/lib/python2.7/site-packages (6.53)\n",
      "Requirement already satisfied: numpy<1.15.3,>=1.13.0 in /home/nbuser/anaconda2_501/lib/python2.7/site-packages (from pycbc) (1.15.2)\n",
      "Requirement already satisfied: Mako>=1.0.1 in /home/nbuser/anaconda2_501/lib/python2.7/site-packages (from pycbc) (1.0.8)\n",
      "Requirement already satisfied: cython in /home/nbuser/anaconda2_501/lib/python2.7/site-packages (from pycbc) (0.28.5)\n",
      "Requirement already satisfied: decorator>=3.4.2 in /home/nbuser/anaconda2_501/lib/python2.7/site-packages (from pycbc) (4.3.0)\n",
      "Requirement already satisfied: scipy>=0.16.0 in /home/nbuser/anaconda2_501/lib/python2.7/site-packages (from pycbc) (1.1.0)\n",
      "Requirement already satisfied: matplotlib>=1.5.1 in /home/nbuser/anaconda2_501/lib/python2.7/site-packages (from pycbc) (2.2.3)\n",
      "Requirement already satisfied: pillow in /home/nbuser/anaconda2_501/lib/python2.7/site-packages (from pycbc) (5.3.0)\n",
      "Requirement already satisfied: h5py>=2.5 in /home/nbuser/anaconda2_501/lib/python2.7/site-packages (from pycbc) (2.8.0)\n",
      "Requirement already satisfied: jinja2 in /home/nbuser/anaconda2_501/lib/python2.7/site-packages (from pycbc) (2.10)\n",
      "Requirement already satisfied: astropy<3.0.0,>=2.0.3 in /home/nbuser/anaconda2_501/lib/python2.7/site-packages (from pycbc) (2.0.8)\n",
      "Requirement already satisfied: mpld3>=0.3 in /home/nbuser/anaconda2_501/lib/python2.7/site-packages (from pycbc) (0.3)\n",
      "Requirement already satisfied: lscsoft-glue>=1.59.3 in /home/nbuser/anaconda2_501/lib/python2.7/site-packages (from pycbc) (2.0.0)\n",
      "Requirement already satisfied: kombine>=0.8.2 in /home/nbuser/anaconda2_501/lib/python2.7/site-packages (from pycbc) (0.8.3)\n",
      "Requirement already satisfied: emcee==2.2.1 in /home/nbuser/anaconda2_501/lib/python2.7/site-packages (from pycbc) (2.2.1)\n",
      "Requirement already satisfied: requests>=1.2.1 in /home/nbuser/anaconda2_501/lib/python2.7/site-packages (from pycbc) (2.20.1)\n",
      "Requirement already satisfied: beautifulsoup4>=4.6.0 in /home/nbuser/anaconda2_501/lib/python2.7/site-packages (from pycbc) (4.6.3)\n",
      "Requirement already satisfied: six>=1.10.0 in /home/nbuser/anaconda2_501/lib/python2.7/site-packages (from pycbc) (1.11.0)\n",
      "Requirement already satisfied: ligo-segments in /home/nbuser/anaconda2_501/lib/python2.7/site-packages (from pycbc) (1.2.0)\n",
      "Requirement already satisfied: weave>=0.16.0 in /home/nbuser/anaconda2_501/lib/python2.7/site-packages (from pycbc) (0.17.0)\n",
      "Requirement already satisfied: python-dateutil in /home/nbuser/anaconda2_501/lib/python2.7/site-packages (from lalsuite) (2.7.5)\n",
      "Requirement already satisfied: MarkupSafe>=0.9.2 in /home/nbuser/anaconda2_501/lib/python2.7/site-packages (from Mako>=1.0.1->pycbc) (1.1.0)\n",
      "Requirement already satisfied: cycler>=0.10 in /home/nbuser/anaconda2_501/lib/python2.7/site-packages (from matplotlib>=1.5.1->pycbc) (0.10.0)\n",
      "Requirement already satisfied: pyparsing!=2.0.4,!=2.1.2,!=2.1.6,>=2.0.1 in /home/nbuser/anaconda2_501/lib/python2.7/site-packages (from matplotlib>=1.5.1->pycbc) (2.3.0)\n",
      "Requirement already satisfied: pytz in /home/nbuser/anaconda2_501/lib/python2.7/site-packages (from matplotlib>=1.5.1->pycbc) (2018.7)\n",
      "Requirement already satisfied: kiwisolver>=1.0.1 in /home/nbuser/anaconda2_501/lib/python2.7/site-packages (from matplotlib>=1.5.1->pycbc) (1.0.1)\n",
      "Requirement already satisfied: backports.functools_lru_cache in /home/nbuser/anaconda2_501/lib/python2.7/site-packages (from matplotlib>=1.5.1->pycbc) (1.5)\n",
      "Requirement already satisfied: subprocess32 in /home/nbuser/anaconda2_501/lib/python2.7/site-packages (from matplotlib>=1.5.1->pycbc) (3.5.3)\n",
      "Requirement already satisfied: pytest>=2.8 in /home/nbuser/anaconda2_501/lib/python2.7/site-packages (from astropy<3.0.0,>=2.0.3->pycbc) (3.8.0)\n",
      "Requirement already satisfied: pyOpenSSL in /home/nbuser/anaconda2_501/lib/python2.7/site-packages (from lscsoft-glue>=1.59.3->pycbc) (18.0.0)\n",
      "Requirement already satisfied: idna<2.8,>=2.5 in /home/nbuser/anaconda2_501/lib/python2.7/site-packages (from requests>=1.2.1->pycbc) (2.7)\n",
      "Requirement already satisfied: chardet<3.1.0,>=3.0.2 in /home/nbuser/anaconda2_501/lib/python2.7/site-packages (from requests>=1.2.1->pycbc) (3.0.4)\n",
      "Requirement already satisfied: urllib3<1.25,>=1.21.1 in /home/nbuser/anaconda2_501/lib/python2.7/site-packages (from requests>=1.2.1->pycbc) (1.23)\n",
      "Requirement already satisfied: certifi>=2017.4.17 in /home/nbuser/anaconda2_501/lib/python2.7/site-packages (from requests>=1.2.1->pycbc) (2018.10.15)\n",
      "Requirement already satisfied: setuptools in /home/nbuser/anaconda2_501/lib/python2.7/site-packages (from kiwisolver>=1.0.1->matplotlib>=1.5.1->pycbc) (40.8.0)\n",
      "Requirement already satisfied: py>=1.5.0 in /home/nbuser/anaconda2_501/lib/python2.7/site-packages (from pytest>=2.8->astropy<3.0.0,>=2.0.3->pycbc) (1.6.0)\n",
      "Requirement already satisfied: attrs>=17.4.0 in /home/nbuser/anaconda2_501/lib/python2.7/site-packages (from pytest>=2.8->astropy<3.0.0,>=2.0.3->pycbc) (18.2.0)\n",
      "Requirement already satisfied: more-itertools>=4.0.0 in /home/nbuser/anaconda2_501/lib/python2.7/site-packages (from pytest>=2.8->astropy<3.0.0,>=2.0.3->pycbc) (4.3.0)\n",
      "Requirement already satisfied: atomicwrites>=1.0 in /home/nbuser/anaconda2_501/lib/python2.7/site-packages (from pytest>=2.8->astropy<3.0.0,>=2.0.3->pycbc) (1.2.1)\n",
      "Requirement already satisfied: pluggy>=0.7 in /home/nbuser/anaconda2_501/lib/python2.7/site-packages (from pytest>=2.8->astropy<3.0.0,>=2.0.3->pycbc) (0.7.1)\n",
      "Requirement already satisfied: funcsigs in /home/nbuser/anaconda2_501/lib/python2.7/site-packages (from pytest>=2.8->astropy<3.0.0,>=2.0.3->pycbc) (1.0.2)\n",
      "Requirement already satisfied: pathlib2>=2.2.0 in /home/nbuser/anaconda2_501/lib/python2.7/site-packages (from pytest>=2.8->astropy<3.0.0,>=2.0.3->pycbc) (2.3.2)\n",
      "Requirement already satisfied: cryptography>=2.2.1 in /home/nbuser/anaconda2_501/lib/python2.7/site-packages (from pyOpenSSL->lscsoft-glue>=1.59.3->pycbc) (2.3.1)\n",
      "Requirement already satisfied: scandir in /home/nbuser/anaconda2_501/lib/python2.7/site-packages (from pathlib2>=2.2.0->pytest>=2.8->astropy<3.0.0,>=2.0.3->pycbc) (1.9.0)\n",
      "Requirement already satisfied: asn1crypto>=0.21.0 in /home/nbuser/anaconda2_501/lib/python2.7/site-packages (from cryptography>=2.2.1->pyOpenSSL->lscsoft-glue>=1.59.3->pycbc) (0.24.0)\n",
      "Requirement already satisfied: cffi!=1.11.3,>=1.7 in /home/nbuser/anaconda2_501/lib/python2.7/site-packages (from cryptography>=2.2.1->pyOpenSSL->lscsoft-glue>=1.59.3->pycbc) (1.11.5)\n",
      "Requirement already satisfied: enum34 in /home/nbuser/anaconda2_501/lib/python2.7/site-packages (from cryptography>=2.2.1->pyOpenSSL->lscsoft-glue>=1.59.3->pycbc) (1.1.6)\n",
      "Requirement already satisfied: ipaddress in /home/nbuser/anaconda2_501/lib/python2.7/site-packages (from cryptography>=2.2.1->pyOpenSSL->lscsoft-glue>=1.59.3->pycbc) (1.0.22)\n",
      "Requirement already satisfied: pycparser in /home/nbuser/anaconda2_501/lib/python2.7/site-packages (from cffi!=1.11.3,>=1.7->cryptography>=2.2.1->pyOpenSSL->lscsoft-glue>=1.59.3->pycbc) (2.19)\n"
     ]
    }
   ],
   "source": [
    "import sys\n",
    "!{sys.executable} -m pip install pycbc lalsuite ligo-common --no-cache-dir"
   ]
  },
  {
   "cell_type": "code",
   "execution_count": 14,
   "metadata": {
    "collapsed": true
   },
   "outputs": [
    {
     "name": "stdout",
     "output_type": "stream",
     "text": [
      "  % Total    % Received % Xferd  Average Speed   Time    Time     Time  Current\n",
      "                                 Dload  Upload   Total   Spent    Left  Speed\n",
      "100   265  100   265    0     0   1299      0 --:--:-- --:--:-- --:--:--  1305\n"
     ]
    }
   ],
   "source": [
    "#Set up the libraries we need and download the data\n",
    "!wget https://losc.ligo.org/s/events/GW150914/H-H1_LOSC_4_V2-1126259446-32.gwf"
   ]
  },
  {
   "cell_type": "code",
   "execution_count": 16,
   "metadata": {},
   "outputs": [],
   "source": [
    "from pycbc.frame import read_frame\n",
    "from pycbc.filter import highpass_fir, lowpass_fir\n",
    "from pycbc.psd import welch, interpolate\n",
    "from pycbc.types import TimeSeries\n",
    "\n",
    "# Read data and remove low frequency content\n",
    "fname = 'H-H1_LOSC_4_V2-1126259446-32.gwf'\n",
    "h1 = highpass_fir(read_frame(fname, 'H1:LOSC-STRAIN'), 15.0, 8)\n",
    "\n",
    "# estimate the noise spectrum and whiten\n",
    "psd = interpolate(welch(h1), 1.0 / 32)\n",
    "white_strain = (h1.to_frequencyseries() / psd ** 0.5 * psd.delta_f).to_timeseries()\n",
    "\n",
    "# remove some of the high and low frequencies\n",
    "smooth = highpass_fir(white_strain, 25, 8)\n",
    "smooth = lowpass_fir(white_strain, 250, 8)\n",
    "\n",
    "# slow the data down by a factor of 4\n",
    "smooth = TimeSeries(smooth, delta_t=smooth.delta_t*4)\n",
    "\n",
    "#strech out and shift the frequency upwards by 300 Hz to aid human hearing\n",
    "frequency_shift = 300.0\n",
    "fdata = smooth.to_frequencyseries()\n",
    "fdata.roll(int(frequency_shift / fdata.delta_f))\n",
    "smooth = fdata.to_timeseries()\n",
    "\n",
    "#Take slice around signal\n",
    "smooth = smooth[len(smooth)//2 - 1500:len(smooth)//2 + 3000]\n",
    "smooth.save_to_wav('gw150914_h1_chirp.wav')"
   ]
  },
  {
   "cell_type": "markdown",
   "metadata": {},
   "source": [
    "### Downlod your audio file ###\n",
    " 1. If using JupyterLab, your file should show up in the sidebar\n",
    " 2. Select and download gw150914_h1_chirp.wav"
   ]
  }
 ],
 "metadata": {
  "kernelspec": {
   "display_name": "Python 2",
   "language": "python",
   "name": "python2"
  },
  "language_info": {
   "codemirror_mode": {
    "name": "ipython",
    "version": 2
   },
   "file_extension": ".py",
   "mimetype": "text/x-python",
   "name": "python",
   "nbconvert_exporter": "python",
   "pygments_lexer": "ipython2",
   "version": "2.7.17"
  }
 },
 "nbformat": 4,
 "nbformat_minor": 2
}
