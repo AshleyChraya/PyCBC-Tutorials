{
  "metadata": {
    "kernelspec": {
      "display_name": "Python 2",
      "language": "python",
      "name": "python2"
    },
    "language_info": {
      "mimetype": "text/x-python",
      "nbconvert_exporter": "python",
      "name": "python",
      "pygments_lexer": "ipython2",
      "version": "2.7.15",
      "file_extension": ".py",
      "codemirror_mode": {
        "version": 2,
        "name": "ipython"
      }
    }
  },
  "nbformat_minor": 2,
  "nbformat": 4,
  "cells": [
    {
      "cell_type": "markdown",
      "source": "## Estimate the parameters and subtract our estimate from the data ##\n\nIn this notebook, we'll do a crude estimate of the mass of the binary that produced GW170817. We'll make the assumption in this notebook that the component objects have equal mass and aren't spinning.",
      "metadata": {}
    },
    {
      "cell_type": "code",
      "source": "import sys\n!{sys.executable} -m pip install pycbc lalsuite ligo-common --no-cache-dir ",
      "metadata": {
        "collapsed": true,
        "trusted": true
      },
      "execution_count": 1,
      "outputs": [
        {
          "text": "Collecting pycbc\n\u001b[?25l  Downloading https://files.pythonhosted.org/packages/f1/7b/8fa363f34c499e79755281ba42c2326abeac1c92b1b3a662e255c16dcd9f/PyCBC-1.13.6.tar.gz (3.0MB)\n\u001b[K    100% |████████████████████████████████| 3.0MB 26.8MB/s ta 0:00:01\n\u001b[?25hCollecting lalsuite\n\u001b[?25l  Downloading https://files.pythonhosted.org/packages/18/7d/c399fa1ddd5560ce80fb61eb1084fc46e94acbd5a4dc27ee319c6affa41a/lalsuite-6.54-cp27-cp27mu-manylinux1_x86_64.whl (30.2MB)\n\u001b[K    100% |████████████████████████████████| 30.2MB 20.3MB/s ta 0:00:01\n\u001b[?25hCollecting ligo-common\n  Downloading https://files.pythonhosted.org/packages/a6/9c/1fbe176feea9abad5c0f3fa090dcffccf44bbcba0f0c754b03d8fea1a36e/ligo_common-1.0.3-py2.py3-none-any.whl\nCollecting numpy<1.15.3,>=1.13.0 (from pycbc)\n\u001b[?25l  Downloading https://files.pythonhosted.org/packages/40/c5/f1ed15dd931d6667b40f1ab1c2fe1f26805fc2b6c3e25e45664f838de9d0/numpy-1.15.2-cp27-cp27mu-manylinux1_x86_64.whl (13.8MB)\n\u001b[K    100% |████████████████████████████████| 13.8MB 12.4MB/s ta 0:00:01\n\u001b[?25hCollecting Mako>=1.0.1 (from pycbc)\n\u001b[?25l  Downloading https://files.pythonhosted.org/packages/a1/bb/f4e5c056e883915c37bb5fb6fab7f00a923c395674f83bfb45c9ecf836b6/Mako-1.0.9.tar.gz (459kB)\n\u001b[K    100% |████████████████████████████████| 460kB 10.9MB/s ta 0:00:01\n\u001b[?25hRequirement already satisfied: cython in /home/nbuser/anaconda2_501/lib/python2.7/site-packages (from pycbc) (0.28.5)\nRequirement already satisfied: decorator>=3.4.2 in /home/nbuser/anaconda2_501/lib/python2.7/site-packages (from pycbc) (4.3.0)\nRequirement already satisfied: scipy>=0.16.0 in /home/nbuser/anaconda2_501/lib/python2.7/site-packages (from pycbc) (1.1.0)\nRequirement already satisfied: matplotlib>=1.5.1 in /home/nbuser/anaconda2_501/lib/python2.7/site-packages (from pycbc) (2.2.3)\nRequirement already satisfied: pillow in /home/nbuser/anaconda2_501/lib/python2.7/site-packages (from pycbc) (5.3.0)\nRequirement already satisfied: h5py>=2.5 in /home/nbuser/anaconda2_501/lib/python2.7/site-packages (from pycbc) (2.8.0)\nRequirement already satisfied: jinja2 in /home/nbuser/anaconda2_501/lib/python2.7/site-packages (from pycbc) (2.10)\nCollecting mpld3>=0.3 (from pycbc)\n\u001b[?25l  Downloading https://files.pythonhosted.org/packages/91/95/a52d3a83d0a29ba0d6898f6727e9858fe7a43f6c2ce81a5fe7e05f0f4912/mpld3-0.3.tar.gz (788kB)\n\u001b[K    100% |████████████████████████████████| 798kB 30.6MB/s ta 0:00:01\n\u001b[?25hCollecting lscsoft-glue>=1.59.3 (from pycbc)\n\u001b[?25l  Downloading https://files.pythonhosted.org/packages/3b/65/e93853bc1876516db8d58f4590dba1d6b85eaf9d1bd375926ac7897e525a/lscsoft-glue-2.0.0.tar.gz (1.6MB)\n\u001b[K    100% |████████████████████████████████| 1.6MB 21.1MB/s ta 0:00:01\n\u001b[?25hCollecting emcee==2.2.1 (from pycbc)\n  Downloading https://files.pythonhosted.org/packages/3f/d3/7635106605dedccd08705beac53be4c43a8da1caad6be667adbf93ed0965/emcee-2.2.1.tar.gz\nRequirement already satisfied: requests>=1.2.1 in /home/nbuser/anaconda2_501/lib/python2.7/site-packages (from pycbc) (2.20.1)\nRequirement already satisfied: beautifulsoup4>=4.6.0 in /home/nbuser/anaconda2_501/lib/python2.7/site-packages (from pycbc) (4.6.3)\nRequirement already satisfied: six>=1.10.0 in /home/nbuser/anaconda2_501/lib/python2.7/site-packages (from pycbc) (1.11.0)\nCollecting ligo-segments (from pycbc)\n\u001b[?25l  Downloading https://files.pythonhosted.org/packages/62/cd/225e331e95cf6aff8ba13bf9a8053b29248a5e71f7fa9bbb1f0db1eaadff/ligo-segments-1.2.0.tar.gz (48kB)\n\u001b[K    100% |████████████████████████████████| 51kB 24.1MB/s ta 0:00:01\n\u001b[?25hRequirement already satisfied: astropy<3.0.0,>=2.0.3 in /home/nbuser/anaconda2_501/lib/python2.7/site-packages (from pycbc) (2.0.8)\nCollecting weave>=0.16.0 (from pycbc)\n\u001b[?25l  Downloading https://files.pythonhosted.org/packages/8f/1f/ad729315589f5b23cd449c9f920717004ba47d06887cfc2f0740bd56767d/weave-0.17.0.tar.gz (573kB)\n\u001b[K    100% |████████████████████████████████| 583kB 7.4MB/s ta 0:00:011\n\u001b[?25hRequirement already satisfied: python-dateutil in /home/nbuser/anaconda2_501/lib/python2.7/site-packages (from lalsuite) (2.7.5)\nRequirement already satisfied: MarkupSafe>=0.9.2 in /home/nbuser/anaconda2_501/lib/python2.7/site-packages (from Mako>=1.0.1->pycbc) (1.1.0)\nRequirement already satisfied: cycler>=0.10 in /home/nbuser/anaconda2_501/lib/python2.7/site-packages (from matplotlib>=1.5.1->pycbc) (0.10.0)\nRequirement already satisfied: pyparsing!=2.0.4,!=2.1.2,!=2.1.6,>=2.0.1 in /home/nbuser/anaconda2_501/lib/python2.7/site-packages (from matplotlib>=1.5.1->pycbc) (2.3.0)\nRequirement already satisfied: pytz in /home/nbuser/anaconda2_501/lib/python2.7/site-packages (from matplotlib>=1.5.1->pycbc) (2018.7)\nRequirement already satisfied: kiwisolver>=1.0.1 in /home/nbuser/anaconda2_501/lib/python2.7/site-packages (from matplotlib>=1.5.1->pycbc) (1.0.1)\nRequirement already satisfied: backports.functools_lru_cache in /home/nbuser/anaconda2_501/lib/python2.7/site-packages (from matplotlib>=1.5.1->pycbc) (1.5)\nRequirement already satisfied: subprocess32 in /home/nbuser/anaconda2_501/lib/python2.7/site-packages (from matplotlib>=1.5.1->pycbc) (3.5.3)\nRequirement already satisfied: pyOpenSSL in /home/nbuser/anaconda2_501/lib/python2.7/site-packages (from lscsoft-glue>=1.59.3->pycbc) (18.0.0)\nRequirement already satisfied: idna<2.8,>=2.5 in /home/nbuser/anaconda2_501/lib/python2.7/site-packages (from requests>=1.2.1->pycbc) (2.7)\nRequirement already satisfied: chardet<3.1.0,>=3.0.2 in /home/nbuser/anaconda2_501/lib/python2.7/site-packages (from requests>=1.2.1->pycbc) (3.0.4)\nRequirement already satisfied: urllib3<1.25,>=1.21.1 in /home/nbuser/anaconda2_501/lib/python2.7/site-packages (from requests>=1.2.1->pycbc) (1.23)\nRequirement already satisfied: certifi>=2017.4.17 in /home/nbuser/anaconda2_501/lib/python2.7/site-packages (from requests>=1.2.1->pycbc) (2018.10.15)\nRequirement already satisfied: pytest>=2.8 in /home/nbuser/anaconda2_501/lib/python2.7/site-packages (from astropy<3.0.0,>=2.0.3->pycbc) (3.8.0)\nRequirement already satisfied: setuptools in /home/nbuser/anaconda2_501/lib/python2.7/site-packages (from kiwisolver>=1.0.1->matplotlib>=1.5.1->pycbc) (41.0.1)\nRequirement already satisfied: cryptography>=2.2.1 in /home/nbuser/anaconda2_501/lib/python2.7/site-packages (from pyOpenSSL->lscsoft-glue>=1.59.3->pycbc) (2.3.1)\nRequirement already satisfied: py>=1.5.0 in /home/nbuser/anaconda2_501/lib/python2.7/site-packages (from pytest>=2.8->astropy<3.0.0,>=2.0.3->pycbc) (1.6.0)\nRequirement already satisfied: attrs>=17.4.0 in /home/nbuser/anaconda2_501/lib/python2.7/site-packages (from pytest>=2.8->astropy<3.0.0,>=2.0.3->pycbc) (18.2.0)\nRequirement already satisfied: more-itertools>=4.0.0 in /home/nbuser/anaconda2_501/lib/python2.7/site-packages (from pytest>=2.8->astropy<3.0.0,>=2.0.3->pycbc) (4.3.0)\nRequirement already satisfied: atomicwrites>=1.0 in /home/nbuser/anaconda2_501/lib/python2.7/site-packages (from pytest>=2.8->astropy<3.0.0,>=2.0.3->pycbc) (1.2.1)\nRequirement already satisfied: pluggy>=0.7 in /home/nbuser/anaconda2_501/lib/python2.7/site-packages (from pytest>=2.8->astropy<3.0.0,>=2.0.3->pycbc) (0.7.1)\nRequirement already satisfied: funcsigs in /home/nbuser/anaconda2_501/lib/python2.7/site-packages (from pytest>=2.8->astropy<3.0.0,>=2.0.3->pycbc) (1.0.2)\nRequirement already satisfied: pathlib2>=2.2.0 in /home/nbuser/anaconda2_501/lib/python2.7/site-packages (from pytest>=2.8->astropy<3.0.0,>=2.0.3->pycbc) (2.3.2)\nRequirement already satisfied: asn1crypto>=0.21.0 in /home/nbuser/anaconda2_501/lib/python2.7/site-packages (from cryptography>=2.2.1->pyOpenSSL->lscsoft-glue>=1.59.3->pycbc) (0.24.0)\nRequirement already satisfied: cffi!=1.11.3,>=1.7 in /home/nbuser/anaconda2_501/lib/python2.7/site-packages (from cryptography>=2.2.1->pyOpenSSL->lscsoft-glue>=1.59.3->pycbc) (1.11.5)\nRequirement already satisfied: enum34 in /home/nbuser/anaconda2_501/lib/python2.7/site-packages (from cryptography>=2.2.1->pyOpenSSL->lscsoft-glue>=1.59.3->pycbc) (1.1.6)\nRequirement already satisfied: ipaddress in /home/nbuser/anaconda2_501/lib/python2.7/site-packages (from cryptography>=2.2.1->pyOpenSSL->lscsoft-glue>=1.59.3->pycbc) (1.0.22)\nRequirement already satisfied: scandir in /home/nbuser/anaconda2_501/lib/python2.7/site-packages (from pathlib2>=2.2.0->pytest>=2.8->astropy<3.0.0,>=2.0.3->pycbc) (1.9.0)\nRequirement already satisfied: pycparser in /home/nbuser/anaconda2_501/lib/python2.7/site-packages (from cffi!=1.11.3,>=1.7->cryptography>=2.2.1->pyOpenSSL->lscsoft-glue>=1.59.3->pycbc) (2.19)\n\u001b[31mfastlmm 0.2.33 requires dill>=0.2.9, which is not installed.\u001b[0m\nInstalling collected packages: numpy, Mako, mpld3, ligo-segments, lscsoft-glue, emcee, weave, pycbc, lalsuite, ligo-common\n  Found existing installation: numpy 1.16.3\n    Uninstalling numpy-1.16.3:\n      Successfully uninstalled numpy-1.16.3\n  Running setup.py install for Mako ... \u001b[?25ldone\n\u001b[?25h  Running setup.py install for mpld3 ... \u001b[?25ldone\n\u001b[?25h  Running setup.py install for ligo-segments ... \u001b[?25ldone\n\u001b[?25h  Running setup.py install for lscsoft-glue ... \u001b[?25ldone\n\u001b[?25h  Running setup.py install for emcee ... \u001b[?25ldone\n\u001b[?25h  Running setup.py install for weave ... \u001b[?25ldone\n\u001b[?25h  Running setup.py install for pycbc ... \u001b[?25ldone\n\u001b[?25hSuccessfully installed Mako-1.0.9 emcee-2.2.1 lalsuite-6.54 ligo-common-1.0.3 ligo-segments-1.2.0 lscsoft-glue-2.0.0 mpld3-0.3 numpy-1.15.2 pycbc-1.13.6 weave-0.17.0\n\u001b[33mYou are using pip version 19.1, however version 19.1.1 is available.\nYou should consider upgrading via the 'pip install --upgrade pip' command.\u001b[0m\n",
          "name": "stdout",
          "output_type": "stream"
        }
      ]
    },
    {
      "cell_type": "markdown",
      "source": "### Read in the detector data ###",
      "metadata": {}
    },
    {
      "cell_type": "code",
      "source": "!wget -nc https://dcc.ligo.org/public/0146/P1700349/001/H-H1_LOSC_CLN_4_V1-1187007040-2048.gwf\n!wget -nc https://dcc.ligo.org/public/0146/P1700349/001/L-L1_LOSC_CLN_4_V1-1187007040-2048.gwf",
      "metadata": {
        "scrolled": true,
        "trusted": true
      },
      "execution_count": 2,
      "outputs": [
        {
          "text": "File ‘H-H1_LOSC_CLN_4_V1-1187007040-2048.gwf’ already there; not retrieving.\n\nFile ‘L-L1_LOSC_CLN_4_V1-1187007040-2048.gwf’ already there; not retrieving.\n\n",
          "name": "stdout",
          "output_type": "stream"
        }
      ]
    },
    {
      "cell_type": "code",
      "source": "%matplotlib inline\nimport pylab\nfrom pycbc.filter import highpass\nfrom pycbc.catalog import Merger\nfrom pycbc.frame import read_frame\n\nmerger = Merger(\"GW170817\")\nstrain, stilde = {}, {}\nfor ifo in ['L1', 'H1']:\n    # We'll download the data and select 256 seconds that includes the event time\n    ts = read_frame(\"{}-{}_LOSC_CLN_4_V1-1187007040-2048.gwf\".format(ifo[0], ifo),\n                    '{}:LOSC-STRAIN'.format(ifo),\n                   start_time=merger.time - 224,\n                   end_time=merger.time + 32,\n                   check_integrity=False)\n    \n    # Read the detector data and remove low frequency content\n    strain[ifo] = highpass(ts, 15)\n\n    # Remove time corrupted by the high pass filter\n    strain[ifo] = strain[ifo].crop(4, 4)\n    \n    # Also create a frequency domain version of the data\n    stilde[ifo] = strain[ifo].to_frequencyseries()",
      "metadata": {
        "scrolled": true,
        "trusted": true
      },
      "execution_count": null,
      "outputs": [
        {
          "text": "Downloading https://www.gw-openscience.org/catalog/GWTC-1-confident/filelist/ [Done]\n",
          "name": "stdout",
          "output_type": "stream"
        }
      ]
    },
    {
      "cell_type": "markdown",
      "source": "### Calculate the power spectral density of the data ###",
      "metadata": {}
    },
    {
      "cell_type": "code",
      "source": "from pycbc.psd import interpolate, inverse_spectrum_truncation\n\npsds = {}\nfor ifo in ['L1', 'H1']:\n    # Calculate a psd from the data. We'll use 2s segments in a median - welch style estimate\n    # We then interpolate the PSD to the desired frequency step. \n    psds[ifo] = interpolate(strain[ifo].psd(2), stilde[ifo].delta_f)\n\n    # We explicitly control how much data will be corrupted by overwhitening the data later on\n    # In this case we choose 2 seconds.\n    psds[ifo] = inverse_spectrum_truncation(psds[ifo], 2 * strain[ifo].sample_rate,\n                                    low_frequency_cutoff=15.0,\n                                    trunc_method='hann')\n\n    pylab.loglog(psds[ifo].sample_frequencies, psds[ifo], label=ifo)\n    pylab.xlim(20, 1024)\n    pylab.ylim(1e-47, 1e-42)\npylab.legend()",
      "metadata": {
        "trusted": true
      },
      "execution_count": null,
      "outputs": []
    },
    {
      "cell_type": "markdown",
      "source": "### Let's estimate the mass of the system ###",
      "metadata": {}
    },
    {
      "cell_type": "code",
      "source": "from pycbc.waveform import get_fd_waveform\nfrom pycbc.filter import matched_filter\nfrom pycbc.conversions import mass1_from_mchirp_q\nimport numpy\n\n# We will try different component masses and see which gives us the largest \nchirp_mass = numpy.arange(1.1966, 1.1996, .0001)\nmasses = mass1_from_mchirp_q(chirp_mass, 1)\n\n# Variables to store when we've found the max\nhmax, smax, tmax, mmax, nsnr = None, {}, {}, 0, 0\nsnrs = []\n\nfor m in masses:\n    #Generate a waveform with a given component mass; assumed equal mass, nonspinning\n    hp, hc = get_fd_waveform(approximant=\"TaylorF2\", \n                             mass1=m, mass2=m, \n                             f_lower=20, delta_f=stilde[ifo].delta_f)\n    hp.resize(len(stilde[ifo]))\n    \n    # Matched filter the data and find the peak  \n    max_snr, max_time = {}, {}\n    for ifo in ['L1', 'H1']:\n        snr = matched_filter(hp, stilde[ifo], psd=psds[ifo], low_frequency_cutoff=20.0)\n\n        # The complex SNR at the peak\n        snr = snr.time_slice(merger.time - 1, merger.time + 1)\n        _, idx = snr.abs_max_loc()\n        max_snr[ifo] = snr[idx]\n        \n        # The time of the peak\n        max_time[ifo] = float(idx) / snr.sample_rate + snr.start_time\n    \n    network_snr = (abs(numpy.array(max_snr.values())) ** 2.0).sum() ** 0.5\n    snrs.append(max_snr)\n    \n    # Keep track of only the loudest peak\n    if network_snr > nsnr:\n        tmax, hmax, mmax, smax = max_time, hp, m, max_snr\n        nsnr = network_snr\n\n# See the SNR as a function of the component mass. Notice where this peaks as it gives us\n# an estimate of what the parameters of the source system are. Note that masses\n# here are in the *detector* frame, so if the source is located far away, it will in\n# fact correspond to a lighter system due to cosmological redshift.\nprint(\"We found the best Mass1=Mass2 was %2.2f solar masses (detector frame)\" % mmax)",
      "metadata": {
        "trusted": true
      },
      "execution_count": null,
      "outputs": []
    },
    {
      "cell_type": "code",
      "source": "# We can see how the estimate from each IFO agrees\nimport numpy\n\nnetwork_snrs = [abs(numpy.array(s.values())**2.0).sum()**0.5 for s in snrs]\nfor ifo in ['L1', 'H1']:\n    ind_snrs =  [abs(s[ifo]) for s in snrs]\n    pylab.plot(masses, ind_snrs, label=ifo)\n    \npylab.plot(masses, network_snrs, label='Network')\npylab.ylabel('Signal-to-noise')\npylab.xlabel('Mass of each neutron star (Detector frame Solar Masses)')\npylab.legend()",
      "metadata": {
        "trusted": true
      },
      "execution_count": null,
      "outputs": []
    },
    {
      "cell_type": "markdown",
      "source": "### We'll see what's already in the data first ###",
      "metadata": {}
    },
    {
      "cell_type": "code",
      "source": "for ifo in ['L1', 'H1']:\n    # Whiten the data\n    hoft = (stilde[ifo] / psds[ifo] ** 0.5).to_timeseries()\n\n    # Select the time around the event\n    zoom = hoft.time_slice(merger.time - 30, merger.time + 2)\n\n    # Calculate the qtransform (a kind of time-frequency representation similar to a spectrogram)\n    times, freqs, power = zoom.qtransform(.01, logfsteps=100, frange=(20, 512), qrange=(110, 110))\n\n    pylab.figure(figsize=(15,3))\n    pylab.pcolormesh(times - merger.time, freqs, power**0.5, vmin=0, vmax=6)\n    pylab.ylim(20, 512)\n    pylab.title('Interferometer: %s' % ifo)\n    pylab.xlabel('Time (s)')\n    pylab.ylabel('Frequency (Hz)')\n    pylab.yscale('log')",
      "metadata": {
        "trusted": true
      },
      "execution_count": null,
      "outputs": []
    },
    {
      "cell_type": "markdown",
      "source": "### Now we subtract the template we found from the data and see what's left###",
      "metadata": {}
    },
    {
      "cell_type": "code",
      "source": "from pycbc.filter import sigma\n\nfor ifo in ['L1', 'H1']:\n    # Shift the template to the maximum time at this sample rate\n    dt =  tmax[ifo] - stilde[ifo].start_time\n    inj = hmax.cyclic_time_shift(dt)\n\n    # Scale the template to the SNR and phase we measured above\n    inj /= sigma(hmax, psd=psds[ifo], low_frequency_cutoff=20.0) # This scales the template to unit SNR\n    inj *= smax[ifo] # This scales the template to the SNR / phase we found\n\n    # Subtract from the data\n    stilde2 = stilde[ifo] - inj\n\n    # Whiten the data\n    hoft = (stilde2 / psds[ifo] ** 0.5).to_timeseries()\n\n    # Select the time around the event\n    zoom = hoft.time_slice(merger.time - 30, merger.time + 2)\n\n    # Calculate the qtransform (a kind of time-frequency representation similar to a spectrogram)\n    times, freqs, power = zoom.qtransform(.01, logfsteps=100, frange=(20, 512), qrange=(110, 110))\n\n    pylab.figure(figsize=(15,3))\n    pylab.pcolormesh(times - merger.time, freqs, power**0.5, vmin=0, vmax=6)\n    pylab.ylim(20, 512)\n    pylab.title('Interferometer: %s' % ifo)\n    pylab.xlabel('Time (s)')\n    pylab.ylabel('Frequency (Hz)')\n    pylab.yscale('log')\n\n# Note that a better match to the data can be found if you allow more\n# freedom in the possible source parameters than we\n# have here.",
      "metadata": {
        "scrolled": false,
        "trusted": true
      },
      "execution_count": null,
      "outputs": []
    },
    {
      "cell_type": "code",
      "source": "",
      "metadata": {},
      "execution_count": null,
      "outputs": []
    }
  ]
}